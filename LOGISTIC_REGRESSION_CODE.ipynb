{
 "cells": [
  {
   "cell_type": "code",
   "execution_count": null,
   "metadata": {},
   "outputs": [],
   "source": [
    "import numpy as np\n",
    "import pandas as pd\n",
    "from sklearn.model_selection import train_test_split\n",
    "import matplotlib.pyplot as plt\n",
    "%matplotlib inline\n",
    "np.random.seed(2019)\n",
    "y=np.append(np.ones(100),np.zeros(100))\n",
    "data=pd.read_csv(\"logistic_reg_data.csv\")"
   ]
  },
  {
   "cell_type": "code",
   "execution_count": null,
   "metadata": {},
   "outputs": [],
   "source": [
    "X_train, X_test, y_train , y_test = train_test_split( data , y , test_size=0.25,stratify=y)"
   ]
  },
  {
   "cell_type": "code",
   "execution_count": null,
   "metadata": {},
   "outputs": [],
   "source": [
    "def sigmoid(z):\n",
    "    return 1 / (1 + np.exp(-z))"
   ]
  },
  {
   "cell_type": "code",
   "execution_count": null,
   "metadata": {},
   "outputs": [],
   "source": [
    "def predict(features, weights):\n",
    "    z = np.dot(features, weights)\n",
    "    return sigmoid(z)"
   ]
  },
  {
   "cell_type": "code",
   "execution_count": null,
   "metadata": {},
   "outputs": [],
   "source": [
    "def cost_function(features, label, weights):\n",
    "    observations = len(label)\n",
    "    predictions = predict(features, weights)\n",
    "    cost = np.sum(-label*np.log(predictions))\n",
    "    return cost\n",
    "   "
   ]
  },
  {
   "cell_type": "code",
   "execution_count": null,
   "metadata": {},
   "outputs": [],
   "source": [
    "def logistic_regression(features, label, num_steps, learning_rate,add_intercept=\"False\"):\n",
    "    if add_intercept:\n",
    "        intercept = np.ones((features.shape[0],1))\n",
    "        features = np.hstack((intercept, features))\n",
    "    ypred=[]\n",
    "    weights=np.zeros(features.shape[1])\n",
    "    \n",
    "    for i in range(num_steps):\n",
    "        z = np.dot(features,weights)\n",
    "        predictions = sigmoid(z)\n",
    "        gradient = np.dot(features.T,predictions-label)\n",
    "        weights =weights- ((learning_rate/features.shape[0]) * gradient)\n",
    "        \n",
    "    z_final = np.dot(features,weights)\n",
    "    z_final_sigmoid=sigmoid(z_final)\n",
    "    ypred=np.round(z_final_sigmoid)\n",
    "    \n",
    "    return ypred"
   ]
  },
  {
   "cell_type": "code",
   "execution_count": null,
   "metadata": {},
   "outputs": [],
   "source": [
    "i=logistic_regression(X_test,y_test,10000,0.01,add_intercept=\"True\")\n",
    "print(np.sum((i-y_test)==0)/len(i))"
   ]
  }
 ],
 "metadata": {
  "kernelspec": {
   "display_name": "Python 3",
   "language": "python",
   "name": "python3"
  },
  "language_info": {
   "codemirror_mode": {
    "name": "ipython",
    "version": 3
   },
   "file_extension": ".py",
   "mimetype": "text/x-python",
   "name": "python",
   "nbconvert_exporter": "python",
   "pygments_lexer": "ipython3",
   "version": "3.6.5"
  }
 },
 "nbformat": 4,
 "nbformat_minor": 2
}
